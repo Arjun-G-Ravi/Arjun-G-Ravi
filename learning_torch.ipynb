{
  "nbformat": 4,
  "nbformat_minor": 0,
  "metadata": {
    "colab": {
      "name": "learning torch.ipynb",
      "provenance": [],
      "authorship_tag": "ABX9TyPs5bL40oALZj6NJUelJ/qB",
      "include_colab_link": true
    },
    "kernelspec": {
      "name": "python3",
      "display_name": "Python 3"
    },
    "language_info": {
      "name": "python"
    }
  },
  "cells": [
    {
      "cell_type": "markdown",
      "metadata": {
        "id": "view-in-github",
        "colab_type": "text"
      },
      "source": [
        "<a href=\"https://colab.research.google.com/github/Arjun-G-Ravi/Arjun-G-Ravi/blob/main/learning_torch.ipynb\" target=\"_parent\"><img src=\"https://colab.research.google.com/assets/colab-badge.svg\" alt=\"Open In Colab\"/></a>"
      ]
    },
    {
      "cell_type": "code",
      "execution_count": 12,
      "metadata": {
        "colab": {
          "base_uri": "https://localhost:8080/"
        },
        "id": "BGJRxszvVa9p",
        "outputId": "8b638774-6151-45ae-9bcf-aeb032a61a48"
      },
      "outputs": [
        {
          "output_type": "stream",
          "name": "stdout",
          "text": [
            "tensor([[0.5560, 0.3176, 0.5041, 0.1704, 0.1267, 0.8821, 0.6794],\n",
            "        [0.6119, 0.9391, 0.3961, 0.1458, 0.1928, 0.4573, 0.8821],\n",
            "        [0.1305, 0.0421, 0.7332, 0.4091, 0.1889, 0.6630, 0.4613],\n",
            "        [0.2260, 0.3549, 0.8481, 0.5443, 0.2226, 0.5478, 0.9167],\n",
            "        [0.4533, 0.6126, 0.4739, 0.0137, 0.5440, 0.7962, 0.6244]])\n",
            "tensor([0.6119, 0.9391, 0.3961, 0.1458, 0.1928, 0.4573, 0.8821])\n"
          ]
        }
      ],
      "source": [
        "import torch\n",
        "\n",
        "x=torch.rand(5,7)\n",
        "print(x)\n",
        "print(x[1,])"
      ]
    }
  ]
}